{
 "cells": [
  {
   "cell_type": "raw",
   "id": "cda4f4dd",
   "metadata": {},
   "source": [
    "1. In the below elements which of them are values or an expression? eg:- values can be\n",
    "integer or string and expressions will be mathematical operators.\n",
    "*\n",
    "'hello'\n",
    "-87.8\n",
    "-\n",
    "/\n",
    "+\n",
    "6\n",
    "\n",
    "\n",
    "Ans- \n",
    "* :- expressions\n",
    "'hello' :- values\n",
    "-87.8 :- values\n",
    "- :- expressions\n",
    "/ :- expressions\n",
    "+ :- expressions\n",
    "6 :- values\n"
   ]
  },
  {
   "cell_type": "markdown",
   "id": "465f7b1f",
   "metadata": {},
   "source": [
    "2. What is the difference between string and variable?\n",
    "\n",
    "Ans - \n",
    "A Variable is used to store of information, and a String is a type of information you would store in a Variable.\n",
    "A String is a group of characters or a single character usually enclosed in Double quotes \" \" or single quotes ' '.\n"
   ]
  },
  {
   "cell_type": "markdown",
   "id": "ea0955f5",
   "metadata": {},
   "source": [
    "3. Describe three different data types.\n",
    "Ans -\n",
    "Python Data Types are used to define the type of a variable. It defines what type of data we are going to store in a variable.\n",
    "Three fundamental Data types in python are int, float, complex.\n",
    "int data type: We can use int data type to represent whole numbers (integral values).\n",
    "float data type: We can use float data type to represent floating point values (decimal values).\n",
    "complex data type: Complex number is represented by complex class. It is specified as (real part) + (imaginary part)j\n",
    "Python is a dynamically typed programming language.We aren't required to declare the type explicitly."
   ]
  },
  {
   "cell_type": "code",
   "execution_count": 2,
   "id": "e78cfe44",
   "metadata": {},
   "outputs": [
    {
     "name": "stdout",
     "output_type": "stream",
     "text": [
      "10 <class 'int'>\n",
      "50.5 <class 'float'>\n",
      "(10.5+20.6j) <class 'complex'>\n"
     ]
    }
   ],
   "source": [
    "# Example for int data type\n",
    "a = 10\n",
    "print(a,type(a))\n",
    "\n",
    "# Example for float data type\n",
    "b = 50.5\n",
    "print(b,type(b))\n",
    "\n",
    "# Example for Complex data type\n",
    "c=10.5 + 20.6j\n",
    "print(c,type(c))\n"
   ]
  },
  {
   "cell_type": "markdown",
   "id": "ea624ecd",
   "metadata": {},
   "source": [
    "4. What is an expression made up of? What do all expressions do?\n",
    "\n",
    "Ans-\n",
    "An expression is a combination of values, variables, operators, and calls to functions. \n",
    "Expressions need to be evaluated. If we ask Python to print an expression, the interpreter evaluates the expression and displays the result."
   ]
  },
  {
   "cell_type": "code",
   "execution_count": 3,
   "id": "1f47d9bf",
   "metadata": {},
   "outputs": [
    {
     "data": {
      "text/plain": [
       "18"
      ]
     },
     "execution_count": 3,
     "metadata": {},
     "output_type": "execute_result"
    }
   ],
   "source": [
    "# Example of expression\n",
    "2*6+10-4"
   ]
  },
  {
   "cell_type": "markdown",
   "id": "99ab248c",
   "metadata": {},
   "source": [
    "5. This assignment statements, like spam = 10. What is the difference between an expression and a statement?\n",
    "\n",
    "Ans-\n",
    "Expressions can be assigned or used as operands, while statements can only be declared. \n",
    "Statements create side effects to be useful, while expressions are values or execute to values.\n",
    "An expression is a combination of values, variables, and operators.When we type an expression at the prompt, the interpreter evaluates it, which means that it finds the value of the expression.\n",
    "eg: 4*5+20-40 is an example of a statement\n",
    "\n",
    "A statement is a unit of code that has an effect, like creating a variable or displaying a value.When we type a statement, the interpreter executes it, which means that it does whatever the statement says. In general, statements don’t have values.\n",
    "\n",
    "eg: variable declaration and assignment are statements because they do not return a value"
   ]
  },
  {
   "cell_type": "code",
   "execution_count": 4,
   "id": "bbe92828",
   "metadata": {},
   "outputs": [
    {
     "name": "stdout",
     "output_type": "stream",
     "text": [
      "Hello World !\n"
     ]
    }
   ],
   "source": [
    "#Example:\n",
    "4*5+20-40 # Is a Expression\n",
    "courseName = 'INeuron FullStack DataScience' # Is a Statement\n",
    "print(\"Hello World !\") # Is a Expression Statement"
   ]
  },
  {
   "cell_type": "markdown",
   "id": "a4543d4a",
   "metadata": {},
   "source": [
    "6. After running the following code, what does the variable bacon contain?\n",
    "bacon = 22\n",
    "bacon + 1\n",
    "\n",
    "Ans-\n",
    "The variable bacon is set to 22 .The expression bacon + 1 does not reassign the value in bacon.We can write this expression bacon = bacon + 1 instead of bacon + 1"
   ]
  },
  {
   "cell_type": "code",
   "execution_count": 5,
   "id": "cffba382",
   "metadata": {},
   "outputs": [
    {
     "name": "stdout",
     "output_type": "stream",
     "text": [
      "22\n",
      "23\n"
     ]
    }
   ],
   "source": [
    "# Example Case#1\n",
    "bacon=22\n",
    "bacon+1\n",
    "print(bacon)\n",
    "\n",
    "#Example Case#2\n",
    "bacon=22\n",
    "bacon=bacon+1 \n",
    "print(bacon)"
   ]
  },
  {
   "cell_type": "markdown",
   "id": "ffad3df4",
   "metadata": {},
   "source": [
    "7. What should the values of the following two terms be?\n",
    "'spam' + 'spamspam'\n",
    "'spam' * 3\n",
    "\n",
    "Ans-\n"
   ]
  },
  {
   "cell_type": "code",
   "execution_count": 6,
   "id": "f28b7536",
   "metadata": {},
   "outputs": [
    {
     "name": "stdout",
     "output_type": "stream",
     "text": [
      "spamspamspam\n",
      "spamspamspam\n"
     ]
    }
   ],
   "source": [
    "print('spam'+'spamspam') # string concatenation\n",
    "print('spam'*3) # string multiplication"
   ]
  },
  {
   "cell_type": "markdown",
   "id": "ffc7eb13",
   "metadata": {},
   "source": [
    "8. Why is eggs a valid variable name while 100 is invalid?\n",
    "\n",
    "Ans-\n",
    "As per python,Variable names cannot begin with a number. The python rules for naming a variable are :-\n",
    "\n",
    "1) Variable name must start with a letter or the underscore character.\n",
    "2) Variable name cannot start with a number."
   ]
  },
  {
   "cell_type": "code",
   "execution_count": 9,
   "id": "72020ea4",
   "metadata": {},
   "outputs": [
    {
     "ename": "SyntaxError",
     "evalue": "cannot assign to literal (550971340.py, line 2)",
     "output_type": "error",
     "traceback": [
      "\u001b[1;36m  File \u001b[1;32m\"C:\\Users\\DEBASIS PRUSTY\\AppData\\Local\\Temp\\ipykernel_1420\\550971340.py\"\u001b[1;36m, line \u001b[1;32m2\u001b[0m\n\u001b[1;33m    100='hello' # Invalid Variable Initilization\u001b[0m\n\u001b[1;37m    ^\u001b[0m\n\u001b[1;31mSyntaxError\u001b[0m\u001b[1;31m:\u001b[0m cannot assign to literal\n"
     ]
    }
   ],
   "source": [
    "eggs='Ineuron' # Valid variable Initilization\n",
    "100='hello' # Invalid Variable Initilization\n",
    "print(eggs) #prints the value of egg ie Ineuron\n",
    "#print(100) # Raises a Syntax Error as 100 is not a valid variable name"
   ]
  },
  {
   "cell_type": "markdown",
   "id": "fe4c80e3",
   "metadata": {},
   "source": [
    "9. What three functions can be used to get the integer, floating-point number, or string\n",
    "version of a value?\n",
    "\n",
    "Ans -\n",
    "The int(),float(),and str() functions will evaluate to the integer,floating-point number,string version of the value passed to them."
   ]
  },
  {
   "cell_type": "code",
   "execution_count": 12,
   "id": "6cd244d5",
   "metadata": {},
   "outputs": [
    {
     "name": "stdout",
     "output_type": "stream",
     "text": [
      "int(10.0) 10\n",
      "float(10) 10.0\n",
      "str(10) 10\n"
     ]
    }
   ],
   "source": [
    "# Examples:\n",
    "print('int(10.0)',int(10.0))\n",
    "print('float(10)',float(10))\n",
    "print('str(10)',str(10))"
   ]
  },
  {
   "cell_type": "markdown",
   "id": "d7df3fcb",
   "metadata": {},
   "source": [
    "10. Why does this expression cause an error? How can you fix it?\n",
    "'I have eaten' + 99 + 'burritos.'\n",
    "\n",
    "Ans-\n",
    "This cause of error is 99.because 99 is not a string. 99 must be typecasted to a string to fix this error."
   ]
  },
  {
   "cell_type": "code",
   "execution_count": 13,
   "id": "ec4ebe39",
   "metadata": {},
   "outputs": [
    {
     "name": "stdout",
     "output_type": "stream",
     "text": [
      "I have eaten 99 burritos\n"
     ]
    }
   ],
   "source": [
    "print('I have eaten '+str(99)+' burritos') # We have fixed it"
   ]
  },
  {
   "cell_type": "code",
   "execution_count": null,
   "id": "e1d361bf",
   "metadata": {},
   "outputs": [],
   "source": []
  }
 ],
 "metadata": {
  "kernelspec": {
   "display_name": "Python 3 (ipykernel)",
   "language": "python",
   "name": "python3"
  },
  "language_info": {
   "codemirror_mode": {
    "name": "ipython",
    "version": 3
   },
   "file_extension": ".py",
   "mimetype": "text/x-python",
   "name": "python",
   "nbconvert_exporter": "python",
   "pygments_lexer": "ipython3",
   "version": "3.9.13"
  }
 },
 "nbformat": 4,
 "nbformat_minor": 5
}
